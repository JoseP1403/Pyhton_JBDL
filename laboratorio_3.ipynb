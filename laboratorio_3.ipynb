{
 "cells": [
  {
   "cell_type": "markdown",
   "metadata": {},
   "source": [
    "# Laboratorio # 3"
   ]
  },
  {
   "cell_type": "code",
   "execution_count": 5,
   "metadata": {},
   "outputs": [
    {
     "name": "stdout",
     "output_type": "stream",
     "text": [
      "El número 10 en binario es: 1010\n"
     ]
    }
   ],
   "source": [
    "def decimal_a_binario(numero):\n",
    "    if numero == 0:\n",
    "        return \"0\"\n",
    "    \n",
    "    binario = \"\"\n",
    "    while numero > 0:\n",
    "        residuo = numero % 2 \n",
    "        binario = str(residuo) + binario  \n",
    "        numero = numero // 2  \n",
    "    \n",
    "    return binario\n",
    "\n",
    "num = int(input(\"Ingrese un número decimal: \"))\n",
    "print(f\"El número {num} en binario es: {decimal_a_binario(num)}\")\n"
   ]
  },
  {
   "cell_type": "code",
   "execution_count": 7,
   "metadata": {},
   "outputs": [
    {
     "name": "stdout",
     "output_type": "stream",
     "text": [
      "True\n",
      "False\n"
     ]
    }
   ],
   "source": [
    "import math\n",
    "\n",
    "def es_primo(n):\n",
    "    if n < 2:\n",
    "        return False\n",
    "    for i in range(2, int(math.sqrt(n)) + 1):\n",
    "        if n % i == 0:\n",
    "            return False\n",
    "    return True\n",
    "\n",
    "print(es_primo(7))  \n",
    "print(es_primo(10)) "
   ]
  },
  {
   "cell_type": "code",
   "execution_count": 8,
   "metadata": {},
   "outputs": [
    {
     "name": "stdout",
     "output_type": "stream",
     "text": [
      "14.142135623730951\n"
     ]
    }
   ],
   "source": [
    "def desviacion_estandar(lista):\n",
    "    N = len(lista)\n",
    "    media = sum(lista) / N\n",
    "    suma_diferencias = sum((x - media) ** 2 for x in lista)\n",
    "    return (suma_diferencias / N) ** 0.5\n",
    "\n",
    "# Prueba\n",
    "numeros = [10, 20, 30, 40, 50]\n",
    "print(desviacion_estandar(numeros)) "
   ]
  },
  {
   "cell_type": "code",
   "execution_count": 9,
   "metadata": {},
   "outputs": [
    {
     "name": "stdout",
     "output_type": "stream",
     "text": [
      "[1, 2, 3, 5, 8]\n"
     ]
    }
   ],
   "source": [
    "def ordenar_lista(lista):\n",
    "    n = len(lista)\n",
    "    for i in range(n):  \n",
    "        for j in range(n - 1):  \n",
    "            if lista[j] > lista[j + 1]:  \n",
    "                temp = lista[j]  \n",
    "                lista[j] = lista[j + 1]  \n",
    "                lista[j + 1] = temp  \n",
    "    return lista\n",
    "\n",
    "\n",
    "numeros = [5, 3, 8, 1, 2]\n",
    "print(ordenar_lista(numeros))  "
   ]
  },
  {
   "cell_type": "code",
   "execution_count": 10,
   "metadata": {},
   "outputs": [
    {
     "name": "stdout",
     "output_type": "stream",
     "text": [
      "102040570\n"
     ]
    }
   ],
   "source": [
    "def tupla_a_string(tupla):\n",
    "    return ''.join(map(str, tupla))\n",
    "\n",
    "entrada = (10, 20, 40, 5, 70)\n",
    "print(tupla_a_string(entrada))"
   ]
  },
  {
   "cell_type": "code",
   "execution_count": 11,
   "metadata": {},
   "outputs": [
    {
     "name": "stdout",
     "output_type": "stream",
     "text": [
      "[('X',), ('a', 'b'), ('a', 'b', 'c'), ('d',)]\n"
     ]
    }
   ],
   "source": [
    "def eliminar_tuplas_vacias(lista):\n",
    "    return [t for t in lista if t]\n",
    "\n",
    "lista = [(), (), ('X',), ('a', 'b'), ('a', 'b', 'c'), ('d',)]\n",
    "print(eliminar_tuplas_vacias(lista))"
   ]
  },
  {
   "cell_type": "code",
   "execution_count": 12,
   "metadata": {},
   "outputs": [
    {
     "name": "stdout",
     "output_type": "stream",
     "text": [
      "(10.5, 44.0, 58.0)\n"
     ]
    }
   ],
   "source": [
    "def promedios_tuplas(tuplas):\n",
    "    return tuple(sum(t)/len(t) for t in tuplas)\n",
    "\n",
    "entrada = ((10, 10, 10, 12), (30, 45, 56, 45), (81, 80, 39, 32))\n",
    "print(promedios_tuplas(entrada))  "
   ]
  },
  {
   "cell_type": "code",
   "execution_count": 13,
   "metadata": {},
   "outputs": [
    {
     "name": "stdout",
     "output_type": "stream",
     "text": [
      "'Word of Radiance' de Brandon Sanderson, 1088 páginas. Leído: No\n",
      "'Word of Radiance' de Brandon Sanderson, 1088 páginas. Leído: Sí\n"
     ]
    }
   ],
   "source": [
    "class Libro:\n",
    "    def __init__(self, titulo, autor, paginas):\n",
    "        self.titulo = titulo\n",
    "        self.autor = autor\n",
    "        self.paginas = paginas\n",
    "        self.leido = False\n",
    "    \n",
    "    def marcar_leido(self):\n",
    "        self.leido = True\n",
    "    \n",
    "    def descripcion(self):\n",
    "        return f\"'{self.titulo}' de {self.autor}, {self.paginas} páginas. Leído: {'Sí' if self.leido else 'No'}\"\n",
    "\n",
    "libro1 = Libro(\"Word of Radiance\", \"Brandon Sanderson\", 1088)\n",
    "print(libro1.descripcion())  \n",
    "libro1.marcar_leido()\n",
    "print(libro1.descripcion())"
   ]
  },
  {
   "cell_type": "code",
   "execution_count": 14,
   "metadata": {},
   "outputs": [
    {
     "name": "stdout",
     "output_type": "stream",
     "text": [
      "78.53981633974483\n",
      "31.41592653589793\n"
     ]
    }
   ],
   "source": [
    "import math\n",
    "\n",
    "class Circulo:\n",
    "    def __init__(self, radio):\n",
    "        self.radio = radio\n",
    "    \n",
    "    def area(self):\n",
    "        return math.pi * self.radio ** 2\n",
    "    \n",
    "    def circunferencia(self):\n",
    "        return 2 * math.pi * self.radio\n",
    "\n",
    "circulo1 = Circulo(5)\n",
    "print(circulo1.area())  \n",
    "print(circulo1.circunferencia())"
   ]
  }
 ],
 "metadata": {
  "kernelspec": {
   "display_name": "venv_ugal_test",
   "language": "python",
   "name": "python3"
  },
  "language_info": {
   "codemirror_mode": {
    "name": "ipython",
    "version": 3
   },
   "file_extension": ".py",
   "mimetype": "text/x-python",
   "name": "python",
   "nbconvert_exporter": "python",
   "pygments_lexer": "ipython3",
   "version": "3.12.8"
  }
 },
 "nbformat": 4,
 "nbformat_minor": 2
}
